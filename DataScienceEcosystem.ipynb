{
 "cells": [
  {
   "cell_type": "markdown",
   "id": "96236ef2-028e-4cd7-97e1-f3701b159fa3",
   "metadata": {},
   "source": [
    "# Data Science Tools and Ecosystem"
   ]
  },
  {
   "cell_type": "markdown",
   "id": "d334e760-390f-43bd-b078-095c79b60dd0",
   "metadata": {},
   "source": [
    "In this notebook, Data Science Tools and Ecosystem are summarized"
   ]
  },
  {
   "cell_type": "markdown",
   "id": "86604db1-996b-46ad-9503-51395d0b7c6d",
   "metadata": {},
   "source": [
    "<b>Objectives:</b>\n",
    "- List popular languages for data science\n",
    "- List commonly used libraries for data science\n",
    "- List popular integrated development environment tools"
   ]
  },
  {
   "cell_type": "markdown",
   "id": "0fe66003-73f2-4e7e-a3be-4d69d72491a0",
   "metadata": {},
   "source": [
    "Some of the popular languages that Data Scientists use are:\n",
    "1. R\n",
    "2. Python\n",
    "3. SQL\n"
   ]
  },
  {
   "cell_type": "markdown",
   "id": "f2da1edf-e206-4f0b-a950-132ecdb5300a",
   "metadata": {},
   "source": [
    "Some of the commonly used libraries used by Data Scientists include:\n",
    "1. Pandas\n",
    "2. SciPy\n",
    "3. TensorFlow"
   ]
  },
  {
   "cell_type": "markdown",
   "id": "d73537f2-398a-4848-8517-a168b5c052e7",
   "metadata": {},
   "source": [
    "| Data Science tools |\n",
    "| ------------------ |\n",
    "| Jupyter            |\n",
    "| RStudio            |\n",
    "| Spyder             |"
   ]
  },
  {
   "cell_type": "markdown",
   "id": "d4013ea2-1c9e-4922-bfcf-8af9cdd698e4",
   "metadata": {},
   "source": [
    "### Below are a few examples of evaluating arithmetic expressions in Python"
   ]
  },
  {
   "cell_type": "code",
   "execution_count": 11,
   "id": "647587dd-4559-402b-81ee-73ce8e0fd20f",
   "metadata": {},
   "outputs": [
    {
     "name": "stdout",
     "output_type": "stream",
     "text": [
      "17\n"
     ]
    }
   ],
   "source": [
    "# This is a simple arithmetic expression to multiply then add integers\n",
    "print((3*4)+5)"
   ]
  },
  {
   "cell_type": "code",
   "execution_count": 13,
   "id": "bb4b58b8-d887-4a57-b816-428d9b298712",
   "metadata": {},
   "outputs": [
    {
     "name": "stdout",
     "output_type": "stream",
     "text": [
      "3.3333333333333335\n"
     ]
    }
   ],
   "source": [
    "# This will convert 200 minutes into hours by dividing by 60\n",
    "print(200/60)"
   ]
  },
  {
   "cell_type": "markdown",
   "id": "9cfb12d8-8e59-4955-8184-d60a03e5cfa0",
   "metadata": {},
   "source": [
    "## Author\n",
    "Elizebeth Erasmus"
   ]
  },
  {
   "cell_type": "code",
   "execution_count": null,
   "id": "3a9c9cd3-47f4-4c13-8dc1-698103ba9487",
   "metadata": {},
   "outputs": [],
   "source": []
  }
 ],
 "metadata": {
  "kernelspec": {
   "display_name": "Python [conda env:base] *",
   "language": "python",
   "name": "conda-base-py"
  },
  "language_info": {
   "codemirror_mode": {
    "name": "ipython",
    "version": 3
   },
   "file_extension": ".py",
   "mimetype": "text/x-python",
   "name": "python",
   "nbconvert_exporter": "python",
   "pygments_lexer": "ipython3",
   "version": "3.12.7"
  }
 },
 "nbformat": 4,
 "nbformat_minor": 5
}
